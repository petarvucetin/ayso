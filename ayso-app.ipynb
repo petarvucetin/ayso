{
 "cells": [
  {
   "cell_type": "code",
   "execution_count": 1,
   "metadata": {},
   "outputs": [],
   "source": [
    "# goals\n",
    "# variables\n",
    "# constraints\n",
    "# algos:\n",
    "#   - GRG non linear (smooth nonlinear problems)\n",
    "#   - LP Simplex (linear)\n",
    "#   - Evolutionary (non-smooth problems)\n",
    "\n",
    "# objective:\n",
    "#    - even teams scores\n",
    "\n",
    "# variables:\n",
    "#    - Team size\n",
    "#    - # of players\n",
    "#    - player score (id, score)\n",
    "\n",
    "# constraints:\n",
    "# 1. player can be only on one team\n",
    "# 2. team can be less but not more than max allowed\n",
    "# 3. All players have to be used\n",
    "\n",
    "#https://github.com/nicknochnack/LinearProgrammingBasics/blob/master/LP%20Notebook.ipynb\n"
   ]
  },
  {
   "cell_type": "code",
   "execution_count": 2,
   "metadata": {},
   "outputs": [],
   "source": [
    "from docplex.mp.model import Model"
   ]
  },
  {
   "cell_type": "code",
   "execution_count": 3,
   "metadata": {},
   "outputs": [],
   "source": [
    "m = Model(name='ayso')"
   ]
  },
  {
   "cell_type": "markdown",
   "metadata": {},
   "source": [
    "### Variables"
   ]
  },
  {
   "cell_type": "code",
   "execution_count": 4,
   "metadata": {},
   "outputs": [],
   "source": [
    "m_team_mean = m.continuous_var(name='m_team_mean')\n",
    "m_teams = m.continuous_var(name='m_teams')\n",
    "m_team_size = m.continuous_var(name='m_team_size')\n",
    "m_players = m.continuous_var(name='m_players')"
   ]
  },
  {
   "cell_type": "code",
   "execution_count": 5,
   "metadata": {},
   "outputs": [],
   "source": [
    "teams = 8\n",
    "players_per_team = 9\n",
    "mean = 0.679642857"
   ]
  },
  {
   "cell_type": "markdown",
   "metadata": {},
   "source": [
    "### Constraints"
   ]
  },
  {
   "cell_type": "code",
   "execution_count": 6,
   "metadata": {},
   "outputs": [
    {
     "ename": "DOcplexException",
     "evalue": "Conversion from constraint to expression is available only for discrete constraints, m_team_size <= 9 is not discrete",
     "output_type": "error",
     "traceback": [
      "\u001b[1;31m---------------------------------------------------------------------------\u001b[0m",
      "\u001b[1;31mDOcplexException\u001b[0m                          Traceback (most recent call last)",
      "Cell \u001b[1;32mIn [6], line 2\u001b[0m\n\u001b[0;32m      1\u001b[0m mc_players_per_team \u001b[39m=\u001b[39m m\u001b[39m.\u001b[39madd_constraint(m_team_size \u001b[39m<\u001b[39m\u001b[39m=\u001b[39m players_per_team)\n\u001b[1;32m----> 2\u001b[0m mc_players \u001b[39m=\u001b[39m m\u001b[39m.\u001b[39madd_constraint(m\u001b[39m.\u001b[39;49msum([ mc_players_per_team  ]) \u001b[39m<\u001b[39m\u001b[39m=\u001b[39m mean  )\n",
      "File \u001b[1;32md:\\development\\my-projects\\python\\ayso\\.venv\\lib\\site-packages\\docplex\\mp\\model.py:3268\u001b[0m, in \u001b[0;36mModel.sum\u001b[1;34m(self, args)\u001b[0m\n\u001b[0;32m   3255\u001b[0m \u001b[39mdef\u001b[39;00m \u001b[39msum\u001b[39m(\u001b[39mself\u001b[39m, args):\n\u001b[0;32m   3256\u001b[0m     \u001b[39m\"\"\" Creates an expression summing over an iterable over expressions or variables.\u001b[39;00m\n\u001b[0;32m   3257\u001b[0m \u001b[39m    This method expects an iterable over any type of expression: quadrayic expression,\u001b[39;00m\n\u001b[0;32m   3258\u001b[0m \u001b[39m    linear expression, variables, constants.\u001b[39;00m\n\u001b[1;32m   (...)\u001b[0m\n\u001b[0;32m   3266\u001b[0m \u001b[39m    :return: A Docplex expression.\u001b[39;00m\n\u001b[0;32m   3267\u001b[0m \u001b[39m    \"\"\"\u001b[39;00m\n\u001b[1;32m-> 3268\u001b[0m     \u001b[39mreturn\u001b[39;00m \u001b[39mself\u001b[39;49m\u001b[39m.\u001b[39;49m_aggregator\u001b[39m.\u001b[39;49msum(args)\n",
      "File \u001b[1;32md:\\development\\my-projects\\python\\ayso\\.venv\\lib\\site-packages\\docplex\\mp\\aggregator.py:207\u001b[0m, in \u001b[0;36mModelAggregator.sum\u001b[1;34m(self, sum_args)\u001b[0m\n\u001b[0;32m    205\u001b[0m     sum_res \u001b[39m=\u001b[39m \u001b[39mself\u001b[39m\u001b[39m.\u001b[39m_sum_with_iter(sum_args\u001b[39m.\u001b[39mvalues())\n\u001b[0;32m    206\u001b[0m \u001b[39melif\u001b[39;00m is_iterable(sum_args):\n\u001b[1;32m--> 207\u001b[0m     sum_res \u001b[39m=\u001b[39m \u001b[39mself\u001b[39;49m\u001b[39m.\u001b[39;49m_sum_with_seq(sum_args)\n\u001b[0;32m    209\u001b[0m \u001b[39melif\u001b[39;00m is_number(sum_args):\n\u001b[0;32m    210\u001b[0m     sum_res \u001b[39m=\u001b[39m sum_args\n",
      "File \u001b[1;32md:\\development\\my-projects\\python\\ayso\\.venv\\lib\\site-packages\\docplex\\mp\\aggregator.py:305\u001b[0m, in \u001b[0;36mModelAggregator._sum_with_seq\u001b[1;34m(self, sum_args)\u001b[0m\n\u001b[0;32m    303\u001b[0m     \u001b[39mreturn\u001b[39;00m \u001b[39mself\u001b[39m\u001b[39m.\u001b[39m_sum_vars(sum_args)\n\u001b[0;32m    304\u001b[0m \u001b[39melse\u001b[39;00m:\n\u001b[1;32m--> 305\u001b[0m     \u001b[39mreturn\u001b[39;00m \u001b[39mself\u001b[39;49m\u001b[39m.\u001b[39;49m_sum_with_iter(args\u001b[39m=\u001b[39;49msum_args)\n",
      "File \u001b[1;32md:\\development\\my-projects\\python\\ayso\\.venv\\lib\\site-packages\\docplex\\mp\\aggregator.py:223\u001b[0m, in \u001b[0;36mModelAggregator._sum_with_iter\u001b[1;34m(self, args)\u001b[0m\n\u001b[0;32m    221\u001b[0m \u001b[39mfor\u001b[39;00m item \u001b[39min\u001b[39;00m args:\n\u001b[0;32m    222\u001b[0m     \u001b[39mif\u001b[39;00m \u001b[39misinstance\u001b[39m(item, LinearOperand):\n\u001b[1;32m--> 223\u001b[0m         \u001b[39mfor\u001b[39;00m lv, lk \u001b[39min\u001b[39;00m item\u001b[39m.\u001b[39miter_terms():\n\u001b[0;32m    224\u001b[0m             update_dict_from_item_value(lcc, lv, lk)\n\u001b[0;32m    225\u001b[0m         itc \u001b[39m=\u001b[39m item\u001b[39m.\u001b[39mget_constant()\n",
      "File \u001b[1;32md:\\development\\my-projects\\python\\ayso\\.venv\\lib\\site-packages\\docplex\\mp\\constr.py:714\u001b[0m, in \u001b[0;36mLinearConstraint.iter_terms\u001b[1;34m(self)\u001b[0m\n\u001b[0;32m    713\u001b[0m \u001b[39mdef\u001b[39;00m \u001b[39miter_terms\u001b[39m(\u001b[39mself\u001b[39m):\n\u001b[1;32m--> 714\u001b[0m     \u001b[39myield\u001b[39;00m \u001b[39mself\u001b[39;49m\u001b[39m.\u001b[39;49mget_resolved_status_var(), \u001b[39m1\u001b[39m\n",
      "File \u001b[1;32md:\\development\\my-projects\\python\\ayso\\.venv\\lib\\site-packages\\docplex\\mp\\constr.py:809\u001b[0m, in \u001b[0;36mLinearConstraint.get_resolved_status_var\u001b[1;34m(self, caller_msg)\u001b[0m\n\u001b[0;32m    806\u001b[0m \u001b[39mself\u001b[39m\u001b[39m.\u001b[39m_model\u001b[39m.\u001b[39m_check_logical_constraint_support()\n\u001b[0;32m    808\u001b[0m \u001b[39m# TODO: issue a meaningful message on why the ct is not discrete\u001b[39;00m\n\u001b[1;32m--> 809\u001b[0m \u001b[39mself\u001b[39;49m\u001b[39m.\u001b[39;49m_check_is_discrete(\u001b[39mself\u001b[39;49m, msg\u001b[39m=\u001b[39;49mcaller_msg)\n\u001b[0;32m    810\u001b[0m \u001b[39m# lock it discrete\u001b[39;00m\n\u001b[0;32m    811\u001b[0m \u001b[39mself\u001b[39m\u001b[39m.\u001b[39mlock_discrete()\n",
      "File \u001b[1;32md:\\development\\my-projects\\python\\ayso\\.venv\\lib\\site-packages\\docplex\\mp\\constr.py:799\u001b[0m, in \u001b[0;36mLinearConstraint._check_is_discrete\u001b[1;34m(self, ct, msg)\u001b[0m\n\u001b[0;32m    797\u001b[0m \u001b[39mdef\u001b[39;00m \u001b[39m_check_is_discrete\u001b[39m(\u001b[39mself\u001b[39m, ct, msg\u001b[39m=\u001b[39m\u001b[39mNone\u001b[39;00m):\n\u001b[0;32m    798\u001b[0m     err_msg \u001b[39m=\u001b[39m msg \u001b[39mor\u001b[39;00m \u001b[39m\"\u001b[39m\u001b[39mConversion from constraint to expression is available only for discrete constraints\u001b[39m\u001b[39m\"\u001b[39m\n\u001b[1;32m--> 799\u001b[0m     StaticTypeChecker\u001b[39m.\u001b[39;49mtypecheck_discrete_constraint(\u001b[39mself\u001b[39;49m, ct, msg\u001b[39m=\u001b[39;49merr_msg)\n",
      "File \u001b[1;32md:\\development\\my-projects\\python\\ayso\\.venv\\lib\\site-packages\\docplex\\mp\\sttck.py:66\u001b[0m, in \u001b[0;36mStaticTypeChecker.typecheck_discrete_constraint\u001b[1;34m(cls, logger, ct, msg)\u001b[0m\n\u001b[0;32m     63\u001b[0m \u001b[39m@classmethod\u001b[39m\n\u001b[0;32m     64\u001b[0m \u001b[39mdef\u001b[39;00m \u001b[39mtypecheck_discrete_constraint\u001b[39m(\u001b[39mcls\u001b[39m, logger, ct, msg):\n\u001b[0;32m     65\u001b[0m     \u001b[39mif\u001b[39;00m \u001b[39mnot\u001b[39;00m ct\u001b[39m.\u001b[39mis_discrete():\n\u001b[1;32m---> 66\u001b[0m         logger\u001b[39m.\u001b[39;49mfatal(\u001b[39m'\u001b[39;49m\u001b[39m{0}\u001b[39;49;00m\u001b[39m, \u001b[39;49m\u001b[39m{1!s}\u001b[39;49;00m\u001b[39m is not discrete\u001b[39;49m\u001b[39m'\u001b[39;49m, msg, ct)\n",
      "File \u001b[1;32md:\\development\\my-projects\\python\\ayso\\.venv\\lib\\site-packages\\docplex\\mp\\basic.py:51\u001b[0m, in \u001b[0;36m_AbstractModelObject.fatal\u001b[1;34m(self, msg, *args)\u001b[0m\n\u001b[0;32m     50\u001b[0m \u001b[39mdef\u001b[39;00m \u001b[39mfatal\u001b[39m(\u001b[39mself\u001b[39m, msg, \u001b[39m*\u001b[39margs):\n\u001b[1;32m---> 51\u001b[0m     \u001b[39mself\u001b[39;49m\u001b[39m.\u001b[39;49mlogger\u001b[39m.\u001b[39;49mfatal(msg, args)\n",
      "File \u001b[1;32md:\\development\\my-projects\\python\\ayso\\.venv\\lib\\site-packages\\docplex\\mp\\error_handler.py:210\u001b[0m, in \u001b[0;36mAbstractErrorHandler.fatal\u001b[1;34m(self, msg, args)\u001b[0m\n\u001b[0;32m    208\u001b[0m resolved_message \u001b[39m=\u001b[39m resolve_pattern(msg, args)\n\u001b[0;32m    209\u001b[0m docplex_error_stop_here()\n\u001b[1;32m--> 210\u001b[0m \u001b[39mraise\u001b[39;00m DOcplexException(resolved_message)\n",
      "\u001b[1;31mDOcplexException\u001b[0m: Conversion from constraint to expression is available only for discrete constraints, m_team_size <= 9 is not discrete"
     ]
    }
   ],
   "source": [
    "mc_players_per_team = m.addco(m_team_size <= players_per_team)\n",
    "mc_players = m.add_constraint(m.sum([ mc_players_per_team  ]) <= mean  )"
   ]
  },
  {
   "cell_type": "markdown",
   "metadata": {},
   "source": [
    "#### Goal"
   ]
  },
  {
   "cell_type": "code",
   "execution_count": null,
   "metadata": {},
   "outputs": [],
   "source": [
    "m.maximize(mc_players)"
   ]
  },
  {
   "cell_type": "code",
   "execution_count": null,
   "metadata": {},
   "outputs": [],
   "source": [
    "sol = m.solve()\n",
    "sol.display()"
   ]
  }
 ],
 "metadata": {
  "kernelspec": {
   "display_name": "Python 3.10.5 ('.venv': venv)",
   "language": "python",
   "name": "python3"
  },
  "language_info": {
   "codemirror_mode": {
    "name": "ipython",
    "version": 3
   },
   "file_extension": ".py",
   "mimetype": "text/x-python",
   "name": "python",
   "nbconvert_exporter": "python",
   "pygments_lexer": "ipython3",
   "version": "3.10.5"
  },
  "orig_nbformat": 4,
  "vscode": {
   "interpreter": {
    "hash": "ba02dec1b7dd9180d820ae8ff7f962a7e7d30e9ff3532ea7b5315e1a61b6102c"
   }
  }
 },
 "nbformat": 4,
 "nbformat_minor": 2
}
