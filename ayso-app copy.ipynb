{
 "cells": [
  {
   "cell_type": "code",
   "execution_count": 294,
   "metadata": {},
   "outputs": [],
   "source": [
    "# goals\n",
    "# variables\n",
    "# constraints\n",
    "# algos:\n",
    "#   - GRG non linear (smooth nonlinear problems)\n",
    "#   - LP Simplex (linear)\n",
    "#   - Evolutionary (non-smooth problems)\n",
    "\n",
    "# objective:\n",
    "#    - even teams scores\n",
    "\n",
    "# variables:\n",
    "#    - Team size\n",
    "#    - # of players\n",
    "#    - player score (id, score)\n",
    "\n",
    "# constraints:\n",
    "# 1. player can be only on one team\n",
    "# 2. team can be less but not more than max allowed\n",
    "# 3. All players have to be used\n",
    "\n",
    "#https://github.com/nicknochnack/LinearProgrammingBasics/blob/master/LP%20Notebook.ipynb\n"
   ]
  },
  {
   "cell_type": "code",
   "execution_count": 295,
   "metadata": {},
   "outputs": [],
   "source": [
    "from sympy.interactive import printing\n",
    "printing.init_printing(use_latex=True)\n",
    "from sympy import Eq, solve_linear_system, Matrix\n",
    "from numpy import linalg\n",
    "import numpy as np\n",
    "import sympy as sp\n",
    "import csv\n",
    "import pandas as pd\n",
    "from pydantic import BaseModel\n",
    "from enum import Enum, auto\n",
    "from typing import List"
   ]
  },
  {
   "cell_type": "code",
   "execution_count": 296,
   "metadata": {},
   "outputs": [
    {
     "name": "stdout",
     "output_type": "stream",
     "text": [
      "56\n"
     ]
    }
   ],
   "source": [
    "data = pd.read_excel(\"test_data_Division.U05B.xlsx\", index_col=0, dtype={\"row#\":int, \"player_number\":int, \"player_name\":str, \"player_division\":str, \"player_score\": int})\n",
    "data_pd = pd.DataFrame(data[[\"player_number\",\"player_division\", \"score_reduced\"]])\n",
    "\n",
    "print(len(data_pd))"
   ]
  },
  {
   "cell_type": "markdown",
   "metadata": {},
   "source": [
    "### Variables"
   ]
  },
  {
   "cell_type": "code",
   "execution_count": 297,
   "metadata": {},
   "outputs": [],
   "source": [
    "import random as rnd\n",
    "\n",
    "def shuffle(roster: pd.DataFrame, **kwargs) -> pd.DataFrame:\n",
    "    data = roster.sample(frac=1)\n",
    "    return data\n",
    "\n",
    "def slicer(data: pd.DataFrame, slices: int, size: int) -> pd.DataFrame:\n",
    "    for i in range(0, (slices * size) - size, size):\n",
    "        slice = pd.DataFrame(data.iloc[i:i+size])\n",
    "        slice[\"slot#\"]= int(i/size)\n",
    "        yield slice\n",
    "\n",
    "def generator(slices: int, size: int, **kwargs) -> List[pd.DataFrame]:\n",
    "     teams = [i for i in slicer(shuffle(data_pd), slices, size)]\n",
    "     return teams"
   ]
  },
  {
   "cell_type": "code",
   "execution_count": 372,
   "metadata": {},
   "outputs": [
    {
     "name": "stdout",
     "output_type": "stream",
     "text": [
      "roster_mean 0.6103571428571429\n",
      "stdev 0.09921362331608659\n"
     ]
    }
   ],
   "source": [
    "league_teams = 8\n",
    "players_per_team = 7\n",
    "teams = generator(league_teams, players_per_team)\n",
    "roster_mean = data_pd[\"score_reduced\"].mean()\n",
    "\n",
    "print(\"roster_mean\", roster_mean)\n",
    "\n",
    "means =[]\n",
    "for t in teams:\n",
    "    t_mean = t[\"score_reduced\"].mean()\n",
    "    means.append( { \"team\": t.iloc[0][\"slot#\"], \"mean\": t_mean, \"diff\": (roster_mean-t_mean)  } )\n",
    "\n",
    "means_pd = pd.DataFrame(means)\n",
    "stdev = means_pd[\"mean\"].std() # <-- minimize this\n",
    "print(\"stdev\", stdev)"
   ]
  },
  {
   "cell_type": "markdown",
   "metadata": {},
   "source": [
    "### Constraints"
   ]
  },
  {
   "cell_type": "markdown",
   "metadata": {},
   "source": [
    "#### Goal"
   ]
  }
 ],
 "metadata": {
  "kernelspec": {
   "display_name": "Python 3.10.5 ('.venv': venv)",
   "language": "python",
   "name": "python3"
  },
  "language_info": {
   "codemirror_mode": {
    "name": "ipython",
    "version": 3
   },
   "file_extension": ".py",
   "mimetype": "text/x-python",
   "name": "python",
   "nbconvert_exporter": "python",
   "pygments_lexer": "ipython3",
   "version": "3.10.5"
  },
  "orig_nbformat": 4,
  "vscode": {
   "interpreter": {
    "hash": "ba02dec1b7dd9180d820ae8ff7f962a7e7d30e9ff3532ea7b5315e1a61b6102c"
   }
  }
 },
 "nbformat": 4,
 "nbformat_minor": 2
}
