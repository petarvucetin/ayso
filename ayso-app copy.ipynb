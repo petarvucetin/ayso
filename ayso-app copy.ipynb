{
 "cells": [
  {
   "cell_type": "code",
   "execution_count": null,
   "metadata": {},
   "outputs": [],
   "source": [
    "import random as rnd\n",
    "from typing import Union\n",
    "import pandas as pd\n",
    "import numpy as np\n",
    "\n",
    "from typing import List\n",
    "import matplotlib.pyplot as plt"
   ]
  },
  {
   "cell_type": "code",
   "execution_count": null,
   "metadata": {},
   "outputs": [],
   "source": [
    "data_pd = pd.read_excel(\"data.xlsx\", dtype={\"player_number\":np.intp})\n",
    "data_pd[\"slot#\"] = None"
   ]
  },
  {
   "cell_type": "code",
   "execution_count": null,
   "metadata": {},
   "outputs": [],
   "source": [
    "def top_slice(roster: pd.DataFrame, slices:int, size:int) -> pd.DataFrame:\n",
    "    roster_mean = roster[\"player_score\"].mean()\n",
    "    \n",
    "    filter = roster[\"player_score\"] > roster_mean\n",
    "    \n",
    "    selection = roster[filter]\n",
    "    \n",
    "    if selection.size < slices:\n",
    "        slices = selection.size\n",
    "    \n",
    "    selection = selection.head(slices)\n",
    "    \n",
    "    selection.index = pd.RangeIndex(start=0, stop=len(selection.index), step=1)\n",
    "    \n",
    "    for i in range(0, len(selection.index)):\n",
    "        selection.at[i, \"slot#\"] = i\n",
    "        # selection.at[i, \"player_division\"] = f\"top: {i}\"\n",
    "    \n",
    "    return selection\n",
    "\n",
    "def bottom_slice(roster: pd.DataFrame, slices:int, size:int) -> pd.DataFrame:\n",
    "    roster_mean = roster[\"player_score\"].mean()\n",
    "    \n",
    "    filter = roster[\"player_score\"] <= roster_mean\n",
    "    \n",
    "    selection = roster.loc[filter]\n",
    "    \n",
    "    if selection.size <= slices:\n",
    "        slices = selection.size\n",
    "        \n",
    "    selection = selection.tail(slices)\n",
    "    \n",
    "    selection.index = pd.RangeIndex(start=0, stop=len(selection.index), step=1)\n",
    "    \n",
    "    for i in range(0, len(selection.index)):\n",
    "        selection.at[i, \"slot#\"] = i\n",
    "        # selection.at[i, \"player_division\"] = f\"bottom: {i}\"\n",
    "    \n",
    "    return selection\n",
    "        \n",
    "def shuffle(roster: pd.DataFrame, slices:int, size:int) -> pd.DataFrame:\n",
    "    \n",
    "    sorted = roster.sort_values(by=[\"player_score\"],axis=0, ascending=False)\n",
    "    \n",
    "    top    = top_slice(sorted, slices, size)\n",
    "   \n",
    "    bottom = bottom_slice(sorted, slices, size)\n",
    "        \n",
    "    selector = pd.concat( [top, bottom] ) \n",
    "    \n",
    "    selector.index = pd.RangeIndex(start=0, stop=len(selector.index), step=1)\n",
    "    \n",
    "    rest = sorted.iloc[len(top.index)-1 : len(sorted.index) - len(bottom.index)]\n",
    "    rest.index = pd.RangeIndex(start=0, stop=len(rest.index), step=1)\n",
    " \n",
    "    shuffle = rest.sample(frac=1)\n",
    "    \n",
    "    for i in range(0, len(shuffle.index)):\n",
    "        if shuffle.at[i, \"slot#\"] is None:\n",
    "           shuffle.at[i, \"slot#\"] = rnd.randrange(0, size)\n",
    "        #    shuffle.at[i, \"player_division\"] = f\"rest {i}\"\n",
    "    \n",
    "    data = pd.concat( [selector, shuffle] )\n",
    "    data.index = pd.RangeIndex(start=0, stop=len(data.index), step=1)\n",
    "    \n",
    "    return data\n",
    "    # return  selector\n",
    "\n",
    "def slicer(data: pd.DataFrame, slices: int, size: int) -> pd.DataFrame:\n",
    "    size = size - 1\n",
    "    for i in range(0, ((slices * size) - size), size):\n",
    "        slice = pd.DataFrame(data.iloc[i:i+size])\n",
    "        yield slice\n",
    "\n",
    "def generator(slices: int, size: int) -> List[pd.DataFrame]:\n",
    "     teams = [i for i in slicer(shuffle(data_pd, slices, size), slices, size)]\n",
    "     return teams\n",
    " \n",
    "def solver(teams: int, players: int) -> Union[float, pd.DataFrame]:\n",
    "    teams = generator(teams, players)\n",
    "    means =[]\n",
    "    for t in teams:\n",
    "        t_mean = t[\"player_score\"].mean()\n",
    "        means.append( { \"team\": t.iloc[0][\"slot#\"], \"mean\": t_mean} )\n",
    "\n",
    "    means_pd = pd.DataFrame(means)\n",
    "    stdev = means_pd[\"mean\"].std() # <-- minimize this\n",
    "    return (stdev, teams)"
   ]
  },
  {
   "cell_type": "code",
   "execution_count": null,
   "metadata": {},
   "outputs": [],
   "source": [
    "def main(itterations: int):\n",
    "    league_teams = 8\n",
    "    players_per_team = 7\n",
    "    roster_mean = data_pd[\"player_score\"].mean()\n",
    "\n",
    "    min_min = itterations\n",
    "    \n",
    "    selection: List[pd.DataFrame] = None\n",
    "\n",
    "    for i in range(0, min_min):\n",
    "        std, teams = solver(league_teams, players_per_team)\n",
    "        selection = teams\n",
    "        if std < min_min:\n",
    "            min_min = std\n",
    "            pd.concat(teams).to_csv(\"./solution.csv\")\n",
    "            slots = pd.concat(teams)[[\"slot#\", \"player_score\"]].groupby([\"slot#\"]).mean([\"player_score\"])\n",
    "            slots.plot.bar(rot=0)\n",
    "            plt.show()\n",
    "            print(f\"Itteration: {i} min: {min_min} roster_mean: {roster_mean}\")\n",
    "        \n",
    "        \n",
    "    print(\"roster_mean\", roster_mean)\n",
    "    print(\"min_min\", min_min)\n",
    "\n",
    "    solution = pd.concat(selection)\n",
    "    solution.to_csv(\"./solution.csv\")\n",
    "\n",
    "    slots = solution[[\"slot#\", \"player_score\"]].groupby([\"slot#\"]).mean([\"player_score\"])\n",
    "    \n",
    "    ax = slots.plot(kind=\"bar\",  rot=0, animated=True,fill=False)\n",
    "    ax.set_title(\"Distribution\")\n",
    "    plt.show()\n",
    "    \n",
    "    "
   ]
  },
  {
   "cell_type": "code",
   "execution_count": 116,
   "metadata": {},
   "outputs": [
    {
     "data": {
      "image/png": "[encoded data removed]",
      "text/plain": [
       "<Figure size 640x480 with 1 Axes>"
      ]
     },
     "metadata": {},
     "output_type": "display_data"
    },
    {
     "name": "stdout",
     "output_type": "stream",
     "text": [
      "Itteration: 9535 min: 0.07177271592550159\n"
     ]
    },
    {
     "data": {
      "image/png": "[encoded data removed]",
      "text/plain": [
       "<Figure size 640x480 with 1 Axes>"
      ]
     },
     "metadata": {},
     "output_type": "display_data"
    },
    {
     "name": "stdout",
     "output_type": "stream",
     "text": [
      "Itteration: 28165 min: 0.07174230043675538\n"
     ]
    }
   ],
   "source": [
    " \n",
    "# if __name__ == \"__main__\":\n",
    "main(1000000)\n",
    "\n"
   ]
  }
 ],
 "metadata": {
  "kernelspec": {
   "display_name": "Python 3.10.5 ('.venv': venv)",
   "language": "python",
   "name": "python3"
  },
  "language_info": {
   "codemirror_mode": {
    "name": "ipython",
    "version": 3
   },
   "file_extension": ".py",
   "mimetype": "text/x-python",
   "name": "python",
   "nbconvert_exporter": "python",
   "pygments_lexer": "ipython3",
   "version": "3.10.5"
  },
  "orig_nbformat": 4,
  "vscode": {
   "interpreter": {
    "hash": "ba02dec1b7dd9180d820ae8ff7f962a7e7d30e9ff3532ea7b5315e1a61b6102c"
   }
  }
 },
 "nbformat": 4,
 "nbformat_minor": 2
}
